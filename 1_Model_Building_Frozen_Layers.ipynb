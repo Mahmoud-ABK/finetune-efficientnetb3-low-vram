{
 "cells": [
  {
   "cell_type": "markdown",
   "id": "a90766ce-bddd-4977-8843-34b0cc043a9c",
   "metadata": {},
   "source": [
    "# Guide Dog Classifier: Model Building with Frozen EfficientNet-B3  \n",
    "## Objectives:\n",
    "\n",
    "- Load pre-partitioned dataset (2,800 images: 1,008 train, 112 val, 280 test per class)\n",
    "- Set up EfficientNet-B3 with frozen layers and a custom classifier\n",
    "- Apply data augmentation to improve generalization\n",
    "- Train and evaluate (accuracy, precision, recall, F1)\n",
    "- Profile VRAM usage to ensure 4GB compatibility\n",
    "- Reset cache for efficiency\n",
    "\n",
    "## Why Freeze Layers?\n",
    "\n",
    "Freezing EfficientNet-B3’s feature extractor reduces memory and compute demands, as only the custom classifier is trained. This is ideal for a 4GB GPU, keeping VRAM usage low while leveraging pre-trained features for transfer learning.\n",
    "\n",
    "Let’s get started!"
   ]
  },
  {
   "cell_type": "markdown",
   "id": "438aa6d0-4ea1-4f1d-959e-63b6211eacee",
   "metadata": {},
   "source": [
    "# Importing necessary libraries"
   ]
  },
  {
   "cell_type": "code",
   "execution_count": 1,
   "id": "62bc4075-4a05-4f7c-a1b9-729853bad7ae",
   "metadata": {
    "execution": {
     "iopub.execute_input": "2025-05-29T17:15:29.822070Z",
     "iopub.status.busy": "2025-05-29T17:15:29.821789Z",
     "iopub.status.idle": "2025-05-29T17:15:34.609983Z",
     "shell.execute_reply": "2025-05-29T17:15:34.609404Z",
     "shell.execute_reply.started": "2025-05-29T17:15:29.822057Z"
    }
   },
   "outputs": [],
   "source": [
    "# Core Python and system utilities\n",
    "import os\n",
    "import time\n",
    "\n",
    "# Numerical and data handling\n",
    "import numpy as np\n",
    "\n",
    "# PyTorch and related libraries\n",
    "import torch\n",
    "import torch.nn as nn\n",
    "import torch.optim as optim\n",
    "from torch.utils.data import DataLoader\n",
    "import torchvision.datasets as datasets\n",
    "import torchvision.models as models\n",
    "import torchvision.transforms as transforms\n",
    "\n",
    "# Visualization\n",
    "import matplotlib.pyplot as plt\n",
    "import seaborn as sns\n",
    "\n",
    "# Metrics and evaluation\n",
    "from sklearn.metrics import accuracy_score, confusion_matrix, precision_recall_fscore_support\n",
    "\n",
    "# Progress tracking\n",
    "from tqdm import tqdm\n",
    "\n",
    "\n",
    "# reproducibility\n",
    "torch.manual_seed(42)\n",
    "np.random.seed(42)\n"
   ]
  },
  {
   "cell_type": "markdown",
   "id": "7577b94e-7d9f-4325-8cdc-ccae2b4f2a51",
   "metadata": {},
   "source": [
    "# Verify CUDA, Define Paths"
   ]
  },
  {
   "cell_type": "code",
   "execution_count": 2,
   "id": "f1078a05-c50a-43d7-a908-3a48b9059e67",
   "metadata": {
    "execution": {
     "iopub.execute_input": "2025-05-29T17:15:34.611279Z",
     "iopub.status.busy": "2025-05-29T17:15:34.610780Z",
     "iopub.status.idle": "2025-05-29T17:15:34.766127Z",
     "shell.execute_reply": "2025-05-29T17:15:34.765614Z",
     "shell.execute_reply.started": "2025-05-29T17:15:34.611262Z"
    }
   },
   "outputs": [
    {
     "name": "stdout",
     "output_type": "stream",
     "text": [
      "CUDA Available: True\n",
      "GPU: NVIDIA GeForce RTX 3050 Ti Laptop GPU\n",
      "Initial VRAM Allocated: 0.00 MB\n",
      "Initial VRAM Reserved: 0.00 MB\n"
     ]
    }
   ],
   "source": [
    "# CUDA check and setup\n",
    "print(f\"CUDA Available: {torch.cuda.is_available()}\")\n",
    "if torch.cuda.is_available():\n",
    "    device = torch.device(\"cuda\")\n",
    "    torch.cuda.manual_seed_all(42)\n",
    "    torch.cuda.empty_cache()  # Clear any residual memory\n",
    "    torch.backends.cudnn.benchmark = False  # Disable for deterministic results\n",
    "    torch.backends.cudnn.enabled = True\n",
    "    print(f\"GPU: {torch.cuda.get_device_name(0)}\")\n",
    "    print(f\"Initial VRAM Allocated: {torch.cuda.memory_allocated(0)/1024**2:.2f} MB\")\n",
    "    print(f\"Initial VRAM Reserved: {torch.cuda.memory_reserved(0)/1024**2:.2f} MB\")\n",
    "else:\n",
    "    device = torch.device(\"cpu\")\n",
    "    print(\"Using CPU. Performance may be slow.\")\n",
    "\n",
    "# Define dataset paths\n",
    "dataset_root = \"./dataset\"\n",
    "train_path = os.path.join(dataset_root, \"train\")\n",
    "val_path = os.path.join(dataset_root, \"val\")\n",
    "test_path = os.path.join(dataset_root, \"test\")"
   ]
  },
  {
   "cell_type": "markdown",
   "id": "71650ea7-034d-4e3e-be4d-22d05d09b5e3",
   "metadata": {},
   "source": [
    "# DataLoader (No Transforms Yet)"
   ]
  },
  {
   "cell_type": "code",
   "execution_count": 3,
   "id": "3e08959a-ca2a-4b48-9add-01bc2b537dd8",
   "metadata": {
    "execution": {
     "iopub.execute_input": "2025-05-29T17:15:34.766980Z",
     "iopub.status.busy": "2025-05-29T17:15:34.766766Z",
     "iopub.status.idle": "2025-05-29T17:15:34.787969Z",
     "shell.execute_reply": "2025-05-29T17:15:34.787398Z",
     "shell.execute_reply.started": "2025-05-29T17:15:34.766960Z"
    }
   },
   "outputs": [
    {
     "name": "stdout",
     "output_type": "stream",
     "text": [
      "Train samples: 2016\n",
      "Validation samples: 224\n",
      "Test samples: 572\n",
      "Classes: ['guide_dogs', 'non_guide_dogs']\n"
     ]
    }
   ],
   "source": [
    "# Load datasets using ImageFolder \n",
    "train_dataset = datasets.ImageFolder(train_path)\n",
    "val_dataset = datasets.ImageFolder(val_path)\n",
    "test_dataset = datasets.ImageFolder(test_path)\n",
    "\n",
    "# Create DataLoaders\n",
    "batch_size = 64\n",
    "num_workers = 2  # number of subprocesses\n",
    "train_loader = DataLoader(\n",
    "    train_dataset,\n",
    "    batch_size=batch_size,\n",
    "    shuffle=True,\n",
    "    num_workers=num_workers,\n",
    "    pin_memory=True\n",
    ")\n",
    "val_loader = DataLoader(\n",
    "    val_dataset,\n",
    "    batch_size=batch_size,\n",
    "    shuffle=False,\n",
    "    num_workers=num_workers,\n",
    "    pin_memory=True\n",
    ")\n",
    "test_loader = DataLoader(\n",
    "    test_dataset,\n",
    "    batch_size=batch_size,\n",
    "    shuffle=False,\n",
    "    num_workers=num_workers,\n",
    "    pin_memory=True\n",
    ")\n",
    "\n",
    "# Verify dataset sizes and classes\n",
    "try:\n",
    "    assert len(train_dataset.classes) == 2, \"Expected 2 classes: guide_dogs, non_guide_dogs\"\n",
    "    print(f\"Train samples: {len(train_dataset)}\")\n",
    "    print(f\"Validation samples: {len(val_dataset)}\")\n",
    "    print(f\"Test samples: {len(test_dataset)}\")\n",
    "    print(f\"Classes: {train_dataset.classes}\")\n",
    "except AssertionError as e:\n",
    "    print(f\"Dataset Error: {e}\")\n",
    "    raise\n",
    "except Exception as e:\n",
    "    print(f\"Error loading dataset: {e}\")\n",
    "    raise"
   ]
  },
  {
   "cell_type": "markdown",
   "id": "4fcc6790-2905-4b0a-a032-aa6f53f8837f",
   "metadata": {},
   "source": [
    "# verifiying our model performance without modification"
   ]
  },
  {
   "cell_type": "markdown",
   "id": "6f13da7f-fc28-4990-afcd-9baa93f42caf",
   "metadata": {},
   "source": [
    "## load the model and set up transforms "
   ]
  },
  {
   "cell_type": "code",
   "execution_count": 4,
   "id": "5de7d3bd-ec5b-459c-a979-46498c69d7f6",
   "metadata": {
    "execution": {
     "iopub.execute_input": "2025-05-29T17:15:35.979658Z",
     "iopub.status.busy": "2025-05-29T17:15:35.979393Z",
     "iopub.status.idle": "2025-05-29T17:15:36.375531Z",
     "shell.execute_reply": "2025-05-29T17:15:36.374404Z",
     "shell.execute_reply.started": "2025-05-29T17:15:35.979632Z"
    }
   },
   "outputs": [],
   "source": [
    "model = models.efficientnet_b3(weights=models.EfficientNet_B3_Weights.IMAGENET1K_V1)\n",
    "model.eval()\n",
    "model = model.to(device)\n",
    "\n",
    "# Get the transforms from the model weights \n",
    "transform = models.EfficientNet_B3_Weights.IMAGENET1K_V1.transforms()\n",
    "# Apply transforms to datasets\n",
    "train_dataset.transform = transform\n",
    "val_dataset.transform = transform\n",
    "test_dataset.transform = transform\n",
    "\n",
    "\n",
    "# Guide dog breeds in ImageNet class label format\n",
    "guide_dog_indexes = [235, 207, 208, 232, 245, 236, 248, 247, 279]\n"
   ]
  },
  {
   "cell_type": "code",
   "execution_count": 5,
   "id": "76d2acc5-ff37-4918-89e7-9a6484b4d237",
   "metadata": {
    "execution": {
     "iopub.execute_input": "2025-05-29T17:15:37.299277Z",
     "iopub.status.busy": "2025-05-29T17:15:37.298913Z",
     "iopub.status.idle": "2025-05-29T17:16:06.689908Z",
     "shell.execute_reply": "2025-05-29T17:16:06.689393Z",
     "shell.execute_reply.started": "2025-05-29T17:15:37.299257Z"
    }
   },
   "outputs": [
    {
     "name": "stderr",
     "output_type": "stream",
     "text": [
      "Evaluating train: 100%|███████████████████████████████████| 63/63 [00:21<00:00,  2.93it/s]\n"
     ]
    },
    {
     "name": "stdout",
     "output_type": "stream",
     "text": [
      "✅ Accuracy on train: 69.99%\n"
     ]
    },
    {
     "name": "stderr",
     "output_type": "stream",
     "text": [
      "Evaluating val: 100%|███████████████████████████████████████| 7/7 [00:02<00:00,  3.03it/s]\n"
     ]
    },
    {
     "name": "stdout",
     "output_type": "stream",
     "text": [
      "✅ Accuracy on val: 72.32%\n"
     ]
    },
    {
     "name": "stderr",
     "output_type": "stream",
     "text": [
      "Evaluating test: 100%|████████████████████████████████████| 18/18 [00:05<00:00,  3.23it/s]"
     ]
    },
    {
     "name": "stdout",
     "output_type": "stream",
     "text": [
      "✅ Accuracy on test: 71.15%\n",
      "\n",
      "📊 Summary:\n",
      "train: 69.99%\n",
      "val: 72.32%\n",
      "test: 71.15%\n"
     ]
    },
    {
     "name": "stderr",
     "output_type": "stream",
     "text": [
      "\n"
     ]
    }
   ],
   "source": [
    "# Evaluation function\n",
    "def evaluate_split(split_path, dataset, model, device):\n",
    "    loader = DataLoader(dataset, batch_size=32, shuffle=False)\n",
    "    guide_dog_class_index = dataset.class_to_idx[\"guide_dogs\"]\n",
    "    correct = 0\n",
    "    total = 0\n",
    "    for images, labels in tqdm(loader, desc=f\"Evaluating {os.path.basename(split_path)}\"):\n",
    "        images = images.to(device)\n",
    "        with torch.no_grad():\n",
    "            outputs = model(images)\n",
    "            preds = torch.argmax(outputs, dim=1)\n",
    "            for i in range(len(preds)):\n",
    "                predicted_idx = preds[i].item()\n",
    "                is_pred_guide = predicted_idx in guide_dog_indexes\n",
    "                is_true_guide = labels[i].item() == guide_dog_class_index\n",
    "                if is_pred_guide == is_true_guide:\n",
    "                    correct += 1\n",
    "                total += 1\n",
    "    accuracy = 100 * correct / total\n",
    "    print(f\"✅ Accuracy on {os.path.basename(split_path)}: {accuracy:.2f}%\")\n",
    "    return accuracy\n",
    "\n",
    "# Evaluate on all splits\n",
    "results = {}\n",
    "for split, dataset in [(\"train\", train_dataset), (\"val\", val_dataset), (\"test\", test_dataset)]:\n",
    "    acc = evaluate_split(os.path.join(dataset_root, split), dataset, model, device)\n",
    "    results[split] = acc\n",
    "\n",
    "print(\"\\n📊 Summary:\")\n",
    "for split, acc in results.items():\n",
    "    print(f\"{split}: {acc:.2f}%\")"
   ]
  },
  {
   "cell_type": "markdown",
   "id": "97af5bc0-737c-4820-b062-896e4468d035",
   "metadata": {},
   "source": [
    "### We Need for Fine-Tuning"
   ]
  },
  {
   "cell_type": "markdown",
   "id": "be499006-2cfd-4c47-b11a-0d33d183e3ec",
   "metadata": {},
   "source": [
    "## Rationale of for Data augmentation "
   ]
  },
  {
   "cell_type": "markdown",
   "id": "eaddc107-d6f0-4f52-8c09-ca81d8ca4e81",
   "metadata": {},
   "source": [
    "Let's explore the default tranforms"
   ]
  },
  {
   "cell_type": "code",
   "execution_count": 6,
   "id": "d9dd202e-d493-4c6b-a254-9a2cc91114b6",
   "metadata": {
    "execution": {
     "iopub.execute_input": "2025-05-29T17:17:14.161083Z",
     "iopub.status.busy": "2025-05-29T17:17:14.160886Z",
     "iopub.status.idle": "2025-05-29T17:17:14.163853Z",
     "shell.execute_reply": "2025-05-29T17:17:14.163395Z",
     "shell.execute_reply.started": "2025-05-29T17:17:14.161071Z"
    },
    "scrolled": true
   },
   "outputs": [
    {
     "name": "stdout",
     "output_type": "stream",
     "text": [
      "ImageClassification(\n",
      "    crop_size=[300]\n",
      "    resize_size=[320]\n",
      "    mean=[0.485, 0.456, 0.406]\n",
      "    std=[0.229, 0.224, 0.225]\n",
      "    interpolation=InterpolationMode.BICUBIC\n",
      ")\n"
     ]
    }
   ],
   "source": [
    "transform = models.EfficientNet_B3_Weights.IMAGENET1K_V1.transforms() \n",
    "print (transform)"
   ]
  },
  {
   "cell_type": "markdown",
   "id": "a4242ac4-3503-4e58-87f4-9534f71ca12c",
   "metadata": {},
   "source": [
    "### Quick BreakDown\n",
    "- crop_size=[300]: Crops image to 300x300 for EfficientNet-B3 input.\n",
    "- resize_size=[320]: Resizes image to 320x320 before cropping.\n",
    "- mean=[0.485, 0.456, 0.406]: Subtracts ImageNet mean for RGB normalization.\n",
    "- std=[0.229, 0.224, 0.225]: Divides by ImageNet std for RGB normalization.\n",
    "- Interpolation=InterpolationMode.BICUBIC: Uses bicubic interpolation for smooth resizing.\n",
    "\n",
    "This is an ImgaeClassifier Object \n",
    "\n",
    "It ain't necessarily ordered , for example resizing is before cropping not unlike printed here \n",
    "\n",
    "## Let's Build our custom transform for Data Augmentation\n",
    "the Custom transform is applied only for training data </br>\n",
    "the validation and test sets will keep the default transform"
   ]
  },
  {
   "cell_type": "code",
   "execution_count": 7,
   "id": "0aad46e5-ec26-4b04-861f-02fc92001ff8",
   "metadata": {
    "execution": {
     "iopub.execute_input": "2025-05-29T17:17:18.056407Z",
     "iopub.status.busy": "2025-05-29T17:17:18.055923Z",
     "iopub.status.idle": "2025-05-29T17:17:18.060508Z",
     "shell.execute_reply": "2025-05-29T17:17:18.060062Z",
     "shell.execute_reply.started": "2025-05-29T17:17:18.056383Z"
    }
   },
   "outputs": [],
   "source": [
    "# Define custom training transforms\n",
    "train_transform = transforms.Compose([\n",
    "    transforms.Resize((300, 300)),\n",
    "    transforms.RandomHorizontalFlip(p=0.5),\n",
    "    transforms.RandomRotation(15),\n",
    "    transforms.ColorJitter(brightness=0.2, contrast=0.2, saturation=0.2),\n",
    "    transforms.RandomResizedCrop(300, scale=(0.8, 1.0)),\n",
    "    transforms.AutoAugment(policy=transforms.AutoAugmentPolicy.IMAGENET), #Applies learned augmentation policies for robustness.\n",
    "    transforms.ToTensor(),\n",
    "    transforms.Normalize(mean=[0.485, 0.456, 0.406], std=[0.229, 0.224, 0.225])\n",
    "])"
   ]
  },
  {
   "cell_type": "markdown",
   "id": "701fd13c-4395-42a9-9f36-4a75bb3a0cbd",
   "metadata": {},
   "source": [
    "### Verifiy shapes"
   ]
  },
  {
   "cell_type": "code",
   "execution_count": 8,
   "id": "f34fcddd-abea-4edf-a700-9e1a6e81b938",
   "metadata": {
    "execution": {
     "iopub.execute_input": "2025-05-29T17:17:19.392824Z",
     "iopub.status.busy": "2025-05-29T17:17:19.392361Z",
     "iopub.status.idle": "2025-05-29T17:17:20.224517Z",
     "shell.execute_reply": "2025-05-29T17:17:20.223827Z",
     "shell.execute_reply.started": "2025-05-29T17:17:19.392803Z"
    }
   },
   "outputs": [
    {
     "name": "stdout",
     "output_type": "stream",
     "text": [
      "Image batch shape: torch.Size([64, 3, 300, 300])\n",
      "Label batch shape: torch.Size([64])\n",
      "Labels: tensor([1, 1, 1, 1, 1, 1, 0, 1, 1, 1, 0, 1, 1, 0, 1, 1, 0, 1, 1, 0, 0, 0, 0, 1,\n",
      "        1, 1, 1, 0, 0, 1, 1, 0, 0, 1, 0, 0, 0, 1, 1, 0, 0, 0, 0, 0, 1, 0, 1, 1,\n",
      "        0, 1, 1, 0, 0, 0, 0, 0, 0, 1, 1, 1, 0, 0, 1, 1])\n",
      "Sample tensor dimensions: torch.Size([3, 300, 300])\n"
     ]
    }
   ],
   "source": [
    "# Verify shapes\n",
    "train_dataset.transform = train_transform\n",
    "data_iter = iter(train_loader)\n",
    "images, labels = next(data_iter)\n",
    "print(f\"Image batch shape: {images.shape}\")  # Expected: [batch_size, 3, 300, 300]\n",
    "print(f\"Label batch shape: {labels.shape}\")  # Expected: [batch_size]\n",
    "print(f\"Labels: {labels}\")\n",
    "print(f\"Sample tensor dimensions: {images[0].shape}\")"
   ]
  },
  {
   "cell_type": "markdown",
   "id": "0db3363e-1e2c-4e93-8713-930ee89cc36d",
   "metadata": {},
   "source": [
    "## Setting Up EfficientNet-B3 with Frozen Layers  \n",
    "We load the pre-trained EfficientNet-B3, freeze its feature extractor, and replace the classifier head with a binary output layer.\n",
    "\n",
    "Let’s set up the model."
   ]
  },
  {
   "cell_type": "code",
   "execution_count": 9,
   "id": "877acd10-5b2d-4f1e-aad5-04c30a8134d4",
   "metadata": {
    "execution": {
     "iopub.execute_input": "2025-05-29T17:17:26.017449Z",
     "iopub.status.busy": "2025-05-29T17:17:26.017186Z",
     "iopub.status.idle": "2025-05-29T17:17:26.022402Z",
     "shell.execute_reply": "2025-05-29T17:17:26.021990Z",
     "shell.execute_reply.started": "2025-05-29T17:17:26.017430Z"
    }
   },
   "outputs": [],
   "source": [
    "# Freeze all layers except classifier\n",
    "for param in model.features.parameters():\n",
    "    param.requires_grad = False"
   ]
  },
  {
   "cell_type": "markdown",
   "id": "acb09839-0b2d-475d-a05e-f255b9f9157c",
   "metadata": {},
   "source": [
    "the freezing goal here is to focus only to train the new classifier before fine tuning the model as a whole"
   ]
  },
  {
   "cell_type": "markdown",
   "id": "5fcaaee9-200f-4bcb-99ae-7456962b24bb",
   "metadata": {},
   "source": [
    "### let's see the classifier that we want to update"
   ]
  },
  {
   "cell_type": "code",
   "execution_count": 10,
   "id": "461948b1-6d9c-4212-9269-9ba1da1e54af",
   "metadata": {
    "execution": {
     "iopub.execute_input": "2025-05-29T17:17:30.094148Z",
     "iopub.status.busy": "2025-05-29T17:17:30.093877Z",
     "iopub.status.idle": "2025-05-29T17:17:30.097389Z",
     "shell.execute_reply": "2025-05-29T17:17:30.096949Z",
     "shell.execute_reply.started": "2025-05-29T17:17:30.094130Z"
    }
   },
   "outputs": [
    {
     "name": "stdout",
     "output_type": "stream",
     "text": [
      "Sequential(\n",
      "  (0): Dropout(p=0.3, inplace=True)\n",
      "  (1): Linear(in_features=1536, out_features=1000, bias=True)\n",
      ")\n"
     ]
    }
   ],
   "source": [
    "print(model.classifier)"
   ]
  },
  {
   "cell_type": "markdown",
   "id": "6212577d-97ac-4d2d-8ec4-bea26b90c2d3",
   "metadata": {},
   "source": [
    "here we conclude that the input layer of the classfier is of size 1536"
   ]
  },
  {
   "cell_type": "code",
   "execution_count": 11,
   "id": "ac162e25-109e-4b04-a133-1d38c23eccae",
   "metadata": {
    "execution": {
     "iopub.execute_input": "2025-05-29T17:17:31.247681Z",
     "iopub.status.busy": "2025-05-29T17:17:31.247262Z",
     "iopub.status.idle": "2025-05-29T17:17:31.270017Z",
     "shell.execute_reply": "2025-05-29T17:17:31.269487Z",
     "shell.execute_reply.started": "2025-05-29T17:17:31.247662Z"
    }
   },
   "outputs": [
    {
     "name": "stdout",
     "output_type": "stream",
     "text": [
      "Sequential(\n",
      "  (0): Linear(in_features=1536, out_features=256, bias=True)\n",
      "  (1): BatchNorm1d(256, eps=1e-05, momentum=0.1, affine=True, track_running_stats=True)\n",
      "  (2): ReLU()\n",
      "  (3): Dropout(p=0.2, inplace=False)\n",
      "  (4): Linear(in_features=256, out_features=1, bias=True)\n",
      ")\n"
     ]
    }
   ],
   "source": [
    "#Replace classifier for binary classification\n",
    "model.classifier = nn.Sequential(\n",
    "    nn.Linear(1536, 256),\n",
    "    nn.BatchNorm1d(256),\n",
    "    nn.ReLU(),\n",
    "    nn.Dropout(0.2),\n",
    "    nn.Linear(256, 1)\n",
    ")\n",
    "model = model.to(device)  # Ensure model is on GPU\n",
    "print(model.classifier)"
   ]
  },
  {
   "cell_type": "markdown",
   "id": "5fbfb43a-1148-45ce-b1bc-7b1bcbd2148a",
   "metadata": {},
   "source": [
    "### Verify freeze"
   ]
  },
  {
   "cell_type": "code",
   "execution_count": 12,
   "id": "8ce61881-ce6e-4c90-913a-83d4e7d0860b",
   "metadata": {
    "execution": {
     "iopub.execute_input": "2025-05-29T17:17:45.576159Z",
     "iopub.status.busy": "2025-05-29T17:17:45.575780Z",
     "iopub.status.idle": "2025-05-29T17:17:45.584863Z",
     "shell.execute_reply": "2025-05-29T17:17:45.584401Z",
     "shell.execute_reply.started": "2025-05-29T17:17:45.576138Z"
    },
    "scrolled": true
   },
   "outputs": [
    {
     "name": "stdout",
     "output_type": "stream",
     "text": [
      "(0, False) (1, False) (2, False) (3, False) (4, False) (5, False) (6, False) (7, False) (8, False) (9, False) (10, False) (11, False) (12, False) (13, False) (14, False) (15, False) (16, False) (17, False) (18, False) (19, False) (20, False) (21, False) (22, False) (23, False) (24, False) (25, False) (26, False) (27, False) (28, False) (29, False) (30, False) (31, False) (32, False) (33, False) (34, False) (35, False) (36, False) (37, False) (38, False) (39, False) (40, False) (41, False) (42, False) (43, False) (44, False) (45, False) (46, False) (47, False) (48, False) (49, False) (50, False) (51, False) (52, False) (53, False) (54, False) (55, False) (56, False) (57, False) (58, False) (59, False) (60, False) (61, False) (62, False) (63, False) (64, False) (65, False) (66, False) (67, False) (68, False) (69, False) (70, False) (71, False) (72, False) (73, False) (74, False) (75, False) (76, False) (77, False) (78, False) (79, False) (80, False) (81, False) (82, False) (83, False) (84, False) (85, False) (86, False) (87, False) (88, False) (89, False) (90, False) (91, False) (92, False) (93, False) (94, False) (95, False) (96, False) (97, False) (98, False) (99, False) (100, False) (101, False) (102, False) (103, False) (104, False) (105, False) (106, False) (107, False) (108, False) (109, False) (110, False) (111, False) (112, False) (113, False) (114, False) (115, False) (116, False) (117, False) (118, False) (119, False) (120, False) (121, False) (122, False) (123, False) (124, False) (125, False) (126, False) (127, False) (128, False) (129, False) (130, False) (131, False) (132, False) (133, False) (134, False) (135, False) (136, False) (137, False) (138, False) (139, False) (140, False) (141, False) (142, False) (143, False) (144, False) (145, False) (146, False) (147, False) (148, False) (149, False) (150, False) (151, False) (152, False) (153, False) (154, False) (155, False) (156, False) (157, False) (158, False) (159, False) (160, False) (161, False) (162, False) (163, False) (164, False) (165, False) (166, False) (167, False) (168, False) (169, False) (170, False) (171, False) (172, False) (173, False) (174, False) (175, False) (176, False) (177, False) (178, False) (179, False) (180, False) (181, False) (182, False) (183, False) (184, False) (185, False) (186, False) (187, False) (188, False) (189, False) (190, False) (191, False) (192, False) (193, False) (194, False) (195, False) (196, False) (197, False) (198, False) (199, False) (200, False) (201, False) (202, False) (203, False) (204, False) (205, False) (206, False) (207, False) (208, False) (209, False) (210, False) (211, False) (212, False) (213, False) (214, False) (215, False) (216, False) (217, False) (218, False) (219, False) (220, False) (221, False) (222, False) (223, False) (224, False) (225, False) (226, False) (227, False) (228, False) (229, False) (230, False) (231, False) (232, False) (233, False) (234, False) (235, False) (236, False) (237, False) (238, False) (239, False) (240, False) (241, False) (242, False) (243, False) (244, False) (245, False) (246, False) (247, False) (248, False) (249, False) (250, False) (251, False) (252, False) (253, False) (254, False) (255, False) (256, False) (257, False) (258, False) (259, False) (260, False) (261, False) (262, False) (263, False) (264, False) (265, False) (266, False) (267, False) (268, False) (269, False) (270, False) (271, False) (272, False) (273, False) (274, False) (275, False) (276, False) (277, False) (278, False) (279, False) (280, False) (281, False) (282, False) (283, False) (284, False) (285, False) (286, False) (287, False) (288, False) (289, False) (290, False) (291, False) (292, False) (293, False) (294, False) (295, False) (296, False) (297, False) (298, False) (299, False) (300, False) (301, False) (302, False) (303, False) (304, False) (305, False) (306, False) (307, False) (308, False) (309, False) (310, False) (311, False) (312, False) (313, False) (314, False) (315, False) (316, False) (317, False) (318, False) (319, False) (320, False) (321, False) (322, False) (323, False) (324, False) (325, False) (326, False) (327, False) (328, False) (329, False) (330, False) (331, False) (332, False) (333, False) (334, False) (335, False) (336, False) (337, False) (338, True) (339, True) (340, True) (341, True) (342, True) (343, True) "
     ]
    }
   ],
   "source": [
    "for idx, param in enumerate(model.parameters()):\n",
    "    print(f\"({idx}, {param.requires_grad})\", end=' ')"
   ]
  },
  {
   "cell_type": "code",
   "execution_count": 13,
   "id": "c8e9714a-8bbc-4ec7-b7ff-0e1fc7d272e7",
   "metadata": {
    "execution": {
     "iopub.execute_input": "2025-05-29T17:18:09.266644Z",
     "iopub.status.busy": "2025-05-29T17:18:09.266451Z",
     "iopub.status.idle": "2025-05-29T17:18:09.484958Z",
     "shell.execute_reply": "2025-05-29T17:18:09.484355Z",
     "shell.execute_reply.started": "2025-05-29T17:18:09.266632Z"
    }
   },
   "outputs": [
    {
     "name": "stdout",
     "output_type": "stream",
     "text": [
      "Thu May 29 18:18:09 2025       \n",
      "+-----------------------------------------------------------------------------------------+\n",
      "| NVIDIA-SMI 570.124.06             Driver Version: 570.124.06     CUDA Version: 12.8     |\n",
      "|-----------------------------------------+------------------------+----------------------+\n",
      "| GPU  Name                 Persistence-M | Bus-Id          Disp.A | Volatile Uncorr. ECC |\n",
      "| Fan  Temp   Perf          Pwr:Usage/Cap |           Memory-Usage | GPU-Util  Compute M. |\n",
      "|                                         |                        |               MIG M. |\n",
      "|=========================================+========================+======================|\n",
      "|   0  NVIDIA GeForce RTX 3050 ...    On  |   00000000:01:00.0 Off |                  N/A |\n",
      "| N/A   41C    P8              6W /   60W |    1471MiB /   4096MiB |      0%      Default |\n",
      "|                                         |                        |                  N/A |\n",
      "+-----------------------------------------+------------------------+----------------------+\n",
      "                                                                                         \n",
      "+-----------------------------------------------------------------------------------------+\n",
      "| Processes:                                                                              |\n",
      "|  GPU   GI   CI              PID   Type   Process name                        GPU Memory |\n",
      "|        ID   ID                                                               Usage      |\n",
      "|=========================================================================================|\n",
      "|    0   N/A  N/A            2484      G   /usr/bin/gnome-shell                      1MiB |\n",
      "|    0   N/A  N/A            4356      C   ...ptimizedfinetuning/bin/python       1452MiB |\n",
      "+-----------------------------------------------------------------------------------------+\n"
     ]
    }
   ],
   "source": [
    "!nvidia-smi"
   ]
  },
  {
   "cell_type": "markdown",
   "id": "a1856a8e-273c-416c-a828-a0c70b8858f5",
   "metadata": {},
   "source": [
    "## Training Setup\n",
    "\n",
    "We train the custom classifier (frozen convolutional layers) for 20 epochs, using:\n",
    "- **Loss**: Binary Cross-Entropy (`BCEWithLogitsLoss`).\n",
    "- **Optimizer**: Adam with learning rate 0.001.\n",
    "- **Metrics**: Accuracy, precision, recall, F1-score on validation set.\n",
    "- **Batch Size**: 64 .\n",
    "\n",
    "We’ll track training and validation loss/accuracy to monitor performance.\n",
    "you can change the number of epochs if you want \n",
    "10 epochs is a fair choice "
   ]
  },
  {
   "cell_type": "code",
   "execution_count": 14,
   "id": "4fb84e7c-95de-4a3b-85e8-4964597f5132",
   "metadata": {
    "execution": {
     "iopub.execute_input": "2025-05-29T17:18:19.431797Z",
     "iopub.status.busy": "2025-05-29T17:18:19.431355Z",
     "iopub.status.idle": "2025-05-29T17:18:19.439513Z",
     "shell.execute_reply": "2025-05-29T17:18:19.439126Z",
     "shell.execute_reply.started": "2025-05-29T17:18:19.431782Z"
    }
   },
   "outputs": [],
   "source": [
    "## BCE\n",
    "# Loss and optimizer\n",
    "criterion = nn.BCEWithLogitsLoss()\n",
    "optimizer = optim.Adam(model.classifier.parameters(), lr=0.01)\n",
    "\n",
    "# Training function\n",
    "def train_model(model, train_loader, val_loader, criterion, optimizer, num_epochs=5):\n",
    "    history = {\"train_loss\": [], \"train_acc\": [], \"val_loss\": [], \"val_acc\": []}\n",
    "    \n",
    "    for epoch in range(num_epochs):\n",
    "        model.train()\n",
    "        train_loss = 0.0\n",
    "        train_preds, train_targets = [], []\n",
    "        \n",
    "        for data, target in train_loader:\n",
    "            data, target = data.to(device), target.float().to(device).view(-1, 1)  # Float targets, shape (batch_size, 1)\n",
    "            optimizer.zero_grad()\n",
    "            output = model(data)  # Output: (batch_size, 1) logits\n",
    "            loss = criterion(output, target)  # BCEWithLogitsLoss\n",
    "            loss.backward()\n",
    "            optimizer.step()\n",
    "            train_loss += loss.item() * data.size(0)\n",
    "\n",
    "            # Apply sigmoid for predictions\n",
    "            probs = torch.sigmoid(output)\n",
    "            preds = (probs > 0.5).float()  # Threshold at 0.5\n",
    "            train_preds.extend(preds.cpu().numpy().flatten())\n",
    "            train_targets.extend(target.cpu().numpy().flatten())\n",
    "\n",
    "        # Validation\n",
    "        model.eval()\n",
    "        val_loss = 0.0\n",
    "        val_preds, val_targets = [], []\n",
    "        with torch.no_grad():\n",
    "            for data, target in val_loader:\n",
    "                data, target = data.to(device), target.float().to(device).view(-1, 1)\n",
    "                output = model(data)  # (batch_size, 1) logits\n",
    "                loss = criterion(output, target)\n",
    "                val_loss += loss.item() * data.size(0)\n",
    "\n",
    "                probs = torch.sigmoid(output)\n",
    "                preds = (probs > 0.5).float()\n",
    "                val_preds.extend(preds.cpu().numpy().flatten())\n",
    "                val_targets.extend(target.cpu().numpy().flatten())\n",
    "\n",
    "        # Metrics\n",
    "        train_loss /= len(train_loader.dataset)\n",
    "        val_loss /= len(val_loader.dataset)\n",
    "        train_acc = accuracy_score(train_targets, train_preds)\n",
    "        val_acc = accuracy_score(val_targets, val_preds)\n",
    "\n",
    "        history[\"train_loss\"].append(train_loss)\n",
    "        history[\"val_loss\"].append(val_loss)\n",
    "        history[\"train_acc\"].append(train_acc)\n",
    "        history[\"val_acc\"].append(val_acc)\n",
    "\n",
    "        print(f\"Epoch {epoch+1}/{num_epochs}: Train Loss: {train_loss:.4f}, Train Acc: {train_acc:.4f}, Val Loss: {val_loss:.4f}, Val Acc: {val_acc:.4f}\")\n",
    "        \n",
    "   # Clear memory after epoch\n",
    "    \n",
    "    return history"
   ]
  },
  {
   "cell_type": "code",
   "execution_count": 15,
   "id": "26533cb6-b13a-4dd9-b6b5-86c2868d8973",
   "metadata": {
    "execution": {
     "iopub.execute_input": "2025-05-29T17:18:20.563799Z",
     "iopub.status.busy": "2025-05-29T17:18:20.563406Z",
     "iopub.status.idle": "2025-05-29T17:20:34.541899Z",
     "shell.execute_reply": "2025-05-29T17:20:34.541482Z",
     "shell.execute_reply.started": "2025-05-29T17:18:20.563780Z"
    }
   },
   "outputs": [
    {
     "name": "stdout",
     "output_type": "stream",
     "text": [
      "Epoch 1/10: Train Loss: 0.5133, Train Acc: 0.7431, Val Loss: 0.3724, Val Acc: 0.8438\n",
      "Epoch 2/10: Train Loss: 0.4038, Train Acc: 0.8145, Val Loss: 0.3461, Val Acc: 0.8661\n",
      "Epoch 3/10: Train Loss: 0.3535, Train Acc: 0.8353, Val Loss: 0.3314, Val Acc: 0.8616\n",
      "Epoch 4/10: Train Loss: 0.2904, Train Acc: 0.8676, Val Loss: 0.3409, Val Acc: 0.8661\n",
      "Epoch 5/10: Train Loss: 0.3009, Train Acc: 0.8671, Val Loss: 0.3274, Val Acc: 0.8750\n",
      "Epoch 6/10: Train Loss: 0.2678, Train Acc: 0.8750, Val Loss: 0.3201, Val Acc: 0.8929\n",
      "Epoch 7/10: Train Loss: 0.2744, Train Acc: 0.8829, Val Loss: 0.3333, Val Acc: 0.8884\n",
      "Epoch 8/10: Train Loss: 0.2487, Train Acc: 0.8919, Val Loss: 0.3221, Val Acc: 0.8839\n",
      "Epoch 9/10: Train Loss: 0.2266, Train Acc: 0.9028, Val Loss: 0.3305, Val Acc: 0.8929\n",
      "Epoch 10/10: Train Loss: 0.2122, Train Acc: 0.9082, Val Loss: 0.3328, Val Acc: 0.8929\n"
     ]
    }
   ],
   "source": [
    "# Train the model\n",
    "history = train_model(model, train_loader, val_loader, criterion, optimizer, num_epochs=10)"
   ]
  },
  {
   "cell_type": "markdown",
   "id": "a247c135-8d34-4aca-8d39-28a04fe85195",
   "metadata": {},
   "source": [
    "## Evaluation and Visualization\n",
    "\n",
    "We evaluate the model on the test set (560 images) and report:\n",
    "- Accuracy\n",
    "- Precision, Recall, F1-score\n",
    "- Confusion Matrix\n",
    "\n",
    "We also visualize training/validation loss and accuracy to assess performance."
   ]
  },
  {
   "cell_type": "code",
   "execution_count": 16,
   "id": "d5682637-c290-4bfb-9fc8-4cb3bba784b0",
   "metadata": {
    "execution": {
     "iopub.execute_input": "2025-05-29T17:21:26.335179Z",
     "iopub.status.busy": "2025-05-29T17:21:26.334664Z",
     "iopub.status.idle": "2025-05-29T17:21:29.622703Z",
     "shell.execute_reply": "2025-05-29T17:21:29.622264Z",
     "shell.execute_reply.started": "2025-05-29T17:21:26.335156Z"
    }
   },
   "outputs": [
    {
     "name": "stdout",
     "output_type": "stream",
     "text": [
      "Test Accuracy: 0.8759\n",
      "Test Precision: 0.8669\n",
      "Test Recall: 0.8881\n",
      "Test F1-Score: 0.8774\n"
     ]
    }
   ],
   "source": [
    "# Evaluation function\n",
    "def evaluate_model(model, loader):\n",
    "    model.eval()\n",
    "    preds, targets = [], []\n",
    "    with torch.no_grad():\n",
    "        for data, target in loader:\n",
    "            data, target = data.to(device), target.float().to(device).view(-1, 1)\n",
    "            output = torch.sigmoid(model(data))\n",
    "            preds.extend((output > 0.5).float().cpu().numpy().flatten())\n",
    "            targets.extend(target.cpu().numpy().flatten())\n",
    "    \n",
    "    acc = accuracy_score(targets, preds)\n",
    "    precision, recall, f1, _ = precision_recall_fscore_support(targets, preds, average=\"binary\")\n",
    "    return acc, precision, recall, f1, preds, targets\n",
    "\n",
    "# Evaluate\n",
    "test_acc, test_precision, test_recall, test_f1, test_preds, test_targets = evaluate_model(model, test_loader)\n",
    "print(f\"Test Accuracy: {test_acc:.4f}\")\n",
    "print(f\"Test Precision: {test_precision:.4f}\")\n",
    "print(f\"Test Recall: {test_recall:.4f}\")\n",
    "print(f\"Test F1-Score: {test_f1:.4f}\")"
   ]
  },
  {
   "cell_type": "code",
   "execution_count": 17,
   "id": "f50eb7a5-3bf9-43ac-8f54-63d6198b4bf9",
   "metadata": {
    "execution": {
     "iopub.execute_input": "2025-05-29T17:21:33.902038Z",
     "iopub.status.busy": "2025-05-29T17:21:33.901824Z",
     "iopub.status.idle": "2025-05-29T17:21:34.145265Z",
     "shell.execute_reply": "2025-05-29T17:21:34.144780Z",
     "shell.execute_reply.started": "2025-05-29T17:21:33.902022Z"
    }
   },
   "outputs": [
    {
     "data": {
      "image/png": "[encoded data removed]",
      "text/plain": [
       "<Figure size 1200x400 with 2 Axes>"
      ]
     },
     "metadata": {},
     "output_type": "display_data"
    }
   ],
   "source": [
    "# Plot loss and accuracy\n",
    "plt.figure(figsize=(12, 4))\n",
    "\n",
    "plt.subplot(1, 2, 1)\n",
    "plt.plot(history[\"train_loss\"], label=\"Train Loss\")\n",
    "plt.plot(history[\"val_loss\"], label=\"Validation Loss\")\n",
    "plt.title(\"Training and Validation Loss\")\n",
    "plt.xlabel(\"Epoch\")\n",
    "plt.ylabel(\"Loss\")\n",
    "plt.legend()\n",
    "\n",
    "plt.subplot(1, 2, 2)\n",
    "plt.plot(history[\"train_acc\"], label=\"Training Accuracy\")\n",
    "plt.plot(history[\"val_acc\"], label=\"Validation Accuracy\")\n",
    "plt.title(\"Training and Validation Accuracy\")\n",
    "plt.xlabel(\"Epoch\")\n",
    "plt.ylabel(\"Accuracy\")\n",
    "plt.legend()\n",
    "\n",
    "plt.tight_layout()\n",
    "plt.show()"
   ]
  },
  {
   "cell_type": "code",
   "execution_count": 18,
   "id": "b3ec00b3-2a57-4c74-953e-b530a7e2f342",
   "metadata": {
    "execution": {
     "iopub.execute_input": "2025-05-29T17:22:35.096623Z",
     "iopub.status.busy": "2025-05-29T17:22:35.096195Z",
     "iopub.status.idle": "2025-05-29T17:22:35.194861Z",
     "shell.execute_reply": "2025-05-29T17:22:35.194528Z",
     "shell.execute_reply.started": "2025-05-29T17:22:35.096604Z"
    }
   },
   "outputs": [
    {
     "data": {
      "image/png": "[encoded data removed]",
      "text/plain": [
       "<Figure size 600x500 with 2 Axes>"
      ]
     },
     "metadata": {},
     "output_type": "display_data"
    }
   ],
   "source": [
    "# Confusion matrix\n",
    "cm = confusion_matrix(test_targets, test_preds)\n",
    "plt.figure(figsize=(6, 5))\n",
    "sns.heatmap(cm, annot=True, fmt=\"d\", cmap=\"Blues\", xticklabels=[\"Non-Guide\", \"Guide\"], yticklabels=[\"Non-Guide\", \"Guide\"])\n",
    "plt.title(\"Confusion Matrix (Test Set)\")\n",
    "plt.xlabel(\"Predicted\")\n",
    "plt.ylabel(\"True\")\n",
    "plt.show()"
   ]
  },
  {
   "cell_type": "markdown",
   "id": "1844a348-47b6-48fe-9ed6-17d12b6881a5",
   "metadata": {
    "execution": {
     "iopub.execute_input": "2025-05-11T23:26:57.916940Z",
     "iopub.status.busy": "2025-05-11T23:26:57.916271Z",
     "iopub.status.idle": "2025-05-11T23:26:57.927100Z",
     "shell.execute_reply": "2025-05-11T23:26:57.925065Z",
     "shell.execute_reply.started": "2025-05-11T23:26:57.916912Z"
    }
   },
   "source": [
    "## Memory Profiling with NVIDIA-SMI\n",
    "\n",
    "We use NVIDIA-SMI to monitor VRAM usage, ensuring training fits within our 4GB RTX 3050 Ti. Freezing VGG16’s convolutional layers minimizes memory needs, as only the classifier parameters (~13M) are trained.\n",
    "\n",
    "Let’s check GPU memory usage (run in a terminal or below)."
   ]
  },
  {
   "cell_type": "code",
   "execution_count": 19,
   "id": "8e482222-99c7-43d6-9c22-10390220027a",
   "metadata": {
    "execution": {
     "iopub.execute_input": "2025-05-29T17:23:24.672446Z",
     "iopub.status.busy": "2025-05-29T17:23:24.672081Z",
     "iopub.status.idle": "2025-05-29T17:23:24.882856Z",
     "shell.execute_reply": "2025-05-29T17:23:24.882272Z",
     "shell.execute_reply.started": "2025-05-29T17:23:24.672428Z"
    }
   },
   "outputs": [
    {
     "name": "stdout",
     "output_type": "stream",
     "text": [
      "Thu May 29 18:23:24 2025       \n",
      "+-----------------------------------------------------------------------------------------+\n",
      "| NVIDIA-SMI 570.124.06             Driver Version: 570.124.06     CUDA Version: 12.8     |\n",
      "|-----------------------------------------+------------------------+----------------------+\n",
      "| GPU  Name                 Persistence-M | Bus-Id          Disp.A | Volatile Uncorr. ECC |\n",
      "| Fan  Temp   Perf          Pwr:Usage/Cap |           Memory-Usage | GPU-Util  Compute M. |\n",
      "|                                         |                        |               MIG M. |\n",
      "|=========================================+========================+======================|\n",
      "|   0  NVIDIA GeForce RTX 3050 ...    On  |   00000000:01:00.0 Off |                  N/A |\n",
      "| N/A   43C    P8              6W /   60W |    3287MiB /   4096MiB |      0%      Default |\n",
      "|                                         |                        |                  N/A |\n",
      "+-----------------------------------------+------------------------+----------------------+\n",
      "                                                                                         \n",
      "+-----------------------------------------------------------------------------------------+\n",
      "| Processes:                                                                              |\n",
      "|  GPU   GI   CI              PID   Type   Process name                        GPU Memory |\n",
      "|        ID   ID                                                               Usage      |\n",
      "|=========================================================================================|\n",
      "|    0   N/A  N/A            2484      G   /usr/bin/gnome-shell                      1MiB |\n",
      "|    0   N/A  N/A            4356      C   ...ptimizedfinetuning/bin/python       3266MiB |\n",
      "+-----------------------------------------------------------------------------------------+\n"
     ]
    }
   ],
   "source": [
    "!nvidia-smi"
   ]
  },
  {
   "cell_type": "markdown",
   "id": "2a52c048-1c30-48a5-a9d2-7ad16a1f633a",
   "metadata": {},
   "source": [
    "## Saving the Model\n",
    "\n",
    "We save the trained model’s weights for use in later notebooks (e.g., fine-tuning). This snapshot captures the classifier trained with frozen layers."
   ]
  },
  {
   "cell_type": "code",
   "execution_count": 20,
   "id": "5fbe05bc-79e3-49bd-9c0f-6d5224e730f4",
   "metadata": {
    "execution": {
     "iopub.execute_input": "2025-05-29T17:23:29.162820Z",
     "iopub.status.busy": "2025-05-29T17:23:29.162609Z",
     "iopub.status.idle": "2025-05-29T17:23:29.279252Z",
     "shell.execute_reply": "2025-05-29T17:23:29.278875Z",
     "shell.execute_reply.started": "2025-05-29T17:23:29.162804Z"
    }
   },
   "outputs": [
    {
     "name": "stdout",
     "output_type": "stream",
     "text": [
      "Model saved as 'frozen_model.pth'\n"
     ]
    }
   ],
   "source": [
    "# Save model\n",
    "torch.save(model.state_dict(), \"./model/frozen_model.pth\")\n",
    "print(\"Model saved as 'frozen_model.pth'\")"
   ]
  },
  {
   "cell_type": "markdown",
   "id": "1ac961eb-e731-448c-8666-ae5e1362ac08",
   "metadata": {
    "execution": {
     "iopub.execute_input": "2025-05-11T23:28:12.883911Z",
     "iopub.status.busy": "2025-05-11T23:28:12.881421Z",
     "iopub.status.idle": "2025-05-11T23:28:12.901441Z",
     "shell.execute_reply": "2025-05-11T23:28:12.899124Z",
     "shell.execute_reply.started": "2025-05-11T23:28:12.883863Z"
    }
   },
   "source": [
    "## Reset Cache and Shut Down Kernel\n",
    "\n",
    "To ensure a clean state, we clear GPU memory and shut down the kernel. After running the cell below, the kernel will stop. Open `2_Fine_Tuning_No_Optimization.ipynb` in a new Jupyter session.\n",
    "\n",
    "**Note**: Restart Jupyter or open the next notebook manually after shutdown."
   ]
  },
  {
   "cell_type": "code",
   "execution_count": 21,
   "id": "37dd12e4-9190-4b83-9894-235e357c8b20",
   "metadata": {
    "execution": {
     "iopub.execute_input": "2025-05-29T17:24:02.235815Z",
     "iopub.status.busy": "2025-05-29T17:24:02.235501Z",
     "iopub.status.idle": "2025-05-29T17:24:02.254564Z",
     "shell.execute_reply": "2025-05-29T17:24:02.254110Z",
     "shell.execute_reply.started": "2025-05-29T17:24:02.235801Z"
    }
   },
   "outputs": [
    {
     "name": "stdout",
     "output_type": "stream",
     "text": [
      "GPU memory cleared.\n"
     ]
    },
    {
     "data": {
      "text/plain": [
       "{'status': 'ok', 'restart': True}"
      ]
     },
     "execution_count": 21,
     "metadata": {},
     "output_type": "execute_result"
    }
   ],
   "source": [
    "from IPython import get_ipython\n",
    "import torch\n",
    "\n",
    "# Clear GPU memory\n",
    "if torch.cuda.is_available():\n",
    "    torch.cuda.empty_cache()\n",
    "print(\"GPU memory cleared.\")\n",
    "\n",
    "# Shut down the kernel\n",
    "get_ipython().kernel.do_shutdown(restart=True)"
   ]
  },
  {
   "cell_type": "code",
   "execution_count": null,
   "id": "aeee9ad3-eda4-48ae-873a-6cc9e6d5f18e",
   "metadata": {},
   "outputs": [],
   "source": []
  }
 ],
 "metadata": {
  "kernelspec": {
   "display_name": "optimized fine tuning",
   "language": "python",
   "name": "optimizedfinetuning"
  },
  "language_info": {
   "codemirror_mode": {
    "name": "ipython",
    "version": 3
   },
   "file_extension": ".py",
   "mimetype": "text/x-python",
   "name": "python",
   "nbconvert_exporter": "python",
   "pygments_lexer": "ipython3",
   "version": "3.11.12"
  }
 },
 "nbformat": 4,
 "nbformat_minor": 5
}
