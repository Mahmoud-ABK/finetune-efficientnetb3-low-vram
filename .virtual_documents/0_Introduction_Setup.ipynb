








import os
# Dataset path
dataset_root = "dataset"

# Count images in each folder
for split in ["train", "val", "test"]:
    for cls in ["guide_dogs", "non_guide_dogs"]:
        folder = os.path.join(dataset_root, split, cls)
        count = len(os.listdir(folder))
        print(f"{split}/{cls}: {count} images")


import matplotlib.pyplot as plt
from PIL import Image
import os

# Display sample images
fig, axes = plt.subplots(1, 2, figsize=(10, 5))
for i, cls in enumerate(["guide_dogs", "non_guide_dogs"]):
    folder = os.path.join(dataset_root, "train", cls)
    img_path = os.path.join(folder, os.listdir(folder)[0])  # First image
    img = Image.open(img_path)
    axes[i].imshow(img)
    axes[i].set_title(cls.replace("_", " ").title())
    axes[i].axis("off")
plt.show()








import torch
print(f"CUDA Available: {torch.cuda.is_available()}")
if torch.cuda.is_available():
    print(f"GPU Name: {torch.cuda.get_device_name(0)}")
    print(f"CUDA Version: {torch.version.cuda}")
    print(f"Number of GPUs: {torch.cuda.device_count()}")
else:
    print("CUDA is not available. Ensure drivers and CUDA are installed.")






get_ipython().getoutput("nvidia-smi")














import torchvision.models as models
model = models.efficientnet_b3(weights=models.EfficientNet_B3_Weights.IMAGENET1K_V1) # Pre-trained weights








# print(model)





import torch
from torchvision import transforms
from PIL import Image
import os, json, requests
import matplotlib.pyplot as plt
import random


model.eval()


# Testing on a guide dog
labels =  models.EfficientNet_B3_Weights.IMAGENET1K_V1.meta["categories"]
transform = models.EfficientNet_B3_Weights.IMAGENET1K_V1.transforms()
randomindex=random.randint(0,1008)

guide="dataset/train/guide_dogs"
img_path = os.path.join(guide, os.listdir(guide)[randomindex])
img = Image.open(img_path).convert("RGB")
img_tensor = transform(img).unsqueeze(0)

with torch.no_grad():
    if torch.cuda.is_available():
        model.cuda()
        img_tensor = img_tensor.cuda()
    output = model(img_tensor)

    _, pred = torch.max(output, 1)


print(f"Predicted class: {labels[pred.item()]}")
plt.imshow(img)
plt.title(f"Predicted: {labels[pred.item()]} (from guide dog dataset)")
plt.axis("off")
plt.show()


# Testing on a non guide dog

labels =  models.EfficientNet_B3_Weights.IMAGENET1K_V1.meta["categories"]
transform = models.EfficientNet_B3_Weights.IMAGENET1K_V1.transforms()
randomindex=random.randint(0,1008)
guide="dataset/train/non_guide_dogs"
img_path = os.path.join(guide, os.listdir(guide)[randomindex])
img = Image.open(img_path).convert("RGB")
img_tensor = transform(img).unsqueeze(0)

with torch.no_grad():
    if torch.cuda.is_available():
        model.cuda()
        img_tensor = img_tensor.cuda()
    output = model(img_tensor)

    _, pred = torch.max(output, 1)


print(f"Predicted class: {labels[pred.item()]}")
plt.imshow(img)
plt.title(f"Predicted: {labels[pred.item()]} (from non guide dog dataset)")
plt.axis("off")
plt.show()





import torch
from IPython import get_ipython
if torch.cuda.is_available():
    torch.cuda.empty_cache()
get_ipython().kernel.do_shutdown(restart=True)




