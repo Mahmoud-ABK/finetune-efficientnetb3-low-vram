{
 "cells": [
  {
   "cell_type": "markdown",
   "id": "da5bd7ab-00b8-4bda-9a6e-2096f08416da",
   "metadata": {},
   "source": [
    "# Guide Dog Classifier: Fine-Tuning **With** Optimization  \n",
    "\n",
    "**Objectives**  \n",
    "- Re-load the pre-trained model with frozen-head weights  \n",
    "- \n",
    "- Encounter and analyze OOM errors on 4 GB GPU  \n",
    "- Show hypothetical success on an 8 GB GPU (screenshot)  \n",
    "- Profile VRAM usage with NVIDIA-SMI  \n",
    "- Save a model snapshot and reset cache/kernel  \n",
    "\n",
    "Let’s start!"
   ]
  },
  {
   "cell_type": "markdown",
   "id": "b52ad0cc-00d2-4dc7-9342-81e703d74481",
   "metadata": {},
   "source": [
    "# Importing necessary libraries (again) , set up DataLoader with transfroms etc.."
   ]
  },
  {
   "cell_type": "code",
   "execution_count": 1,
   "id": "b80769d7-2aee-4b02-9dd8-fd77dc7d5211",
   "metadata": {
    "execution": {
     "iopub.execute_input": "2025-06-07T00:19:26.440457Z",
     "iopub.status.busy": "2025-06-07T00:19:26.440250Z",
     "iopub.status.idle": "2025-06-07T00:19:30.599942Z",
     "shell.execute_reply": "2025-06-07T00:19:30.599538Z",
     "shell.execute_reply.started": "2025-06-07T00:19:26.440442Z"
    }
   },
   "outputs": [],
   "source": [
    "# Core Python and system utilities\n",
    "import os\n",
    "import time\n",
    "\n",
    "# Numerical and data handling£\n",
    "import numpy as np\n",
    "\n",
    "# PyTorch and related libraries\n",
    "import torch\n",
    "import torch.nn as nn\n",
    "import torch.optim as optim\n",
    "from torch.utils.data import DataLoader\n",
    "import torchvision.datasets as datasets\n",
    "import torchvision.models as models\n",
    "import torchvision.transforms as transforms\n",
    "\n",
    "# Visualization\n",
    "import matplotlib.pyplot as plt\n",
    "import seaborn as sns\n",
    "\n",
    "# Metrics and evaluation\n",
    "from sklearn.metrics import accuracy_score, confusion_matrix, precision_recall_fscore_support\n",
    "\n",
    "# Progress tracking\n",
    "from tqdm import tqdm\n",
    "\n",
    "\n",
    "# reproducibility\n",
    "torch.manual_seed(42)\n",
    "np.random.seed(42)\n"
   ]
  },
  {
   "cell_type": "code",
   "execution_count": 2,
   "id": "b0847875-6669-4ff6-9122-9d5463da0381",
   "metadata": {
    "execution": {
     "iopub.execute_input": "2025-06-07T00:19:30.600843Z",
     "iopub.status.busy": "2025-06-07T00:19:30.600565Z",
     "iopub.status.idle": "2025-06-07T00:19:30.728394Z",
     "shell.execute_reply": "2025-06-07T00:19:30.727961Z",
     "shell.execute_reply.started": "2025-06-07T00:19:30.600827Z"
    }
   },
   "outputs": [
    {
     "name": "stdout",
     "output_type": "stream",
     "text": [
      "CUDA Available: True\n",
      "GPU: NVIDIA GeForce RTX 3050 Ti Laptop GPU\n",
      "Initial VRAM Allocated: 0.00 MB\n",
      "Initial VRAM Reserved: 0.00 MB\n"
     ]
    }
   ],
   "source": [
    "# CUDA check and setup\n",
    "print(f\"CUDA Available: {torch.cuda.is_available()}\")\n",
    "if torch.cuda.is_available():\n",
    "    device = torch.device(\"cuda\")\n",
    "    torch.cuda.manual_seed_all(42)\n",
    "    torch.cuda.empty_cache()  # Clear any residual memory\n",
    "    torch.backends.cudnn.benchmark = False  # Disable for deterministic results\n",
    "    torch.backends.cudnn.enabled = True\n",
    "    print(f\"GPU: {torch.cuda.get_device_name(0)}\")\n",
    "    print(f\"Initial VRAM Allocated: {torch.cuda.memory_allocated(0)/1024**2:.2f} MB\")\n",
    "    print(f\"Initial VRAM Reserved: {torch.cuda.memory_reserved(0)/1024**2:.2f} MB\")\n",
    "else:\n",
    "    device = torch.device(\"cpu\")\n",
    "    print(\"Using CPU. Performance may be slow.\")\n",
    "\n",
    "# Define dataset paths\n",
    "dataset_root = \"./dataset\"\n",
    "train_path = os.path.join(dataset_root, \"train\")\n",
    "val_path = os.path.join(dataset_root, \"val\")\n",
    "test_path = os.path.join(dataset_root, \"test\")"
   ]
  },
  {
   "cell_type": "code",
   "execution_count": 3,
   "id": "c6d689da-ed0a-4172-8a0c-a4c2df393f5d",
   "metadata": {
    "execution": {
     "iopub.execute_input": "2025-06-07T00:19:30.729057Z",
     "iopub.status.busy": "2025-06-07T00:19:30.728916Z",
     "iopub.status.idle": "2025-06-07T00:19:30.741279Z",
     "shell.execute_reply": "2025-06-07T00:19:30.740837Z",
     "shell.execute_reply.started": "2025-06-07T00:19:30.729045Z"
    }
   },
   "outputs": [],
   "source": [
    "# Get the transforms from the model weights \n",
    "transform = models.EfficientNet_B3_Weights.IMAGENET1K_V1.transforms()\n",
    "# Define custom training transforms\n",
    "train_transform = transforms.Compose([\n",
    "    transforms.Resize((300, 300)),\n",
    "    transforms.RandomHorizontalFlip(p=0.5),\n",
    "    transforms.RandomRotation(15),\n",
    "    transforms.ColorJitter(brightness=0.2, contrast=0.2, saturation=0.2),\n",
    "    transforms.RandomResizedCrop(300, scale=(0.8, 1.0)),\n",
    "    transforms.AutoAugment(policy=transforms.AutoAugmentPolicy.IMAGENET), #Applies learned augmentation policies for robustness.\n",
    "    transforms.ToTensor(),\n",
    "    transforms.Normalize(mean=[0.485, 0.456, 0.406], std=[0.229, 0.224, 0.225])\n",
    "])\n",
    "\n",
    "# Load datasets using ImageFolder \n",
    "train_dataset = datasets.ImageFolder(train_path)\n",
    "val_dataset = datasets.ImageFolder(val_path)\n",
    "test_dataset = datasets.ImageFolder(test_path)\n",
    "\n",
    "# setting up transforms\n",
    "train_dataset.transform = train_transform\n",
    "val_dataset.transform = transform\n",
    "test_dataset.transform = transform\n",
    "\n"
   ]
  },
  {
   "cell_type": "markdown",
   "id": "665ccb2e-5cfa-4207-9b96-35e1246e5906",
   "metadata": {},
   "source": [
    "define memorytracking"
   ]
  },
  {
   "cell_type": "code",
   "execution_count": 4,
   "id": "17ccccf2-22d5-40ff-b3da-5ccc7c33a051",
   "metadata": {
    "execution": {
     "iopub.execute_input": "2025-06-07T00:19:30.742322Z",
     "iopub.status.busy": "2025-06-07T00:19:30.742137Z",
     "iopub.status.idle": "2025-06-07T00:19:30.745614Z",
     "shell.execute_reply": "2025-06-07T00:19:30.745225Z",
     "shell.execute_reply.started": "2025-06-07T00:19:30.742303Z"
    }
   },
   "outputs": [],
   "source": [
    "\n",
    "def memorytracking() :\n",
    "    used_mem = torch.cuda.memory_allocated()\n",
    "    reserved_mem = torch.cuda.memory_reserved()\n",
    "    peak_mem = torch.cuda.max_memory_allocated()\n",
    "    print(f\"  Allocated Memory    : {used_mem / (1024 ** 2):.2f} MB\" , end=' ') \n",
    "    print(f\"  Reserved Memory      : {reserved_mem / (1024 ** 2):.2f} MB\" , end=' ')\n",
    "    print(f\"  Peak Allocated Memory: {peak_mem / (1024 ** 2):.2f} MB\")\n"
   ]
  },
  {
   "cell_type": "markdown",
   "id": "e7c0e058-e0f8-4325-ba49-f104b070d332",
   "metadata": {},
   "source": [
    "# Solving OOM error \n",
    "here is the strategy we are going to do \n",
    "\n",
    "- freeze early convolutional layers\n",
    "- use optimized Dataloaders to reduce bottlenecking\n",
    "- apply gradient accumulation\n",
    "- apply gradient checkpointing\n",
    "- use mixed precision "
   ]
  },
  {
   "cell_type": "markdown",
   "id": "b3de261d-4c89-4e79-93cb-c367f794e004",
   "metadata": {},
   "source": [
    "## Optimize Dataloaders \n",
    "Dataloaders are already optimized so we move on I just reduce the batch size from 64 to 32 "
   ]
  },
  {
   "cell_type": "code",
   "execution_count": 5,
   "id": "379a50de-0144-4ee0-9b5e-d97fb02e8bc2",
   "metadata": {
    "execution": {
     "iopub.execute_input": "2025-06-07T00:19:30.868128Z",
     "iopub.status.busy": "2025-06-07T00:19:30.867696Z",
     "iopub.status.idle": "2025-06-07T00:19:30.871245Z",
     "shell.execute_reply": "2025-06-07T00:19:30.870830Z",
     "shell.execute_reply.started": "2025-06-07T00:19:30.868103Z"
    }
   },
   "outputs": [],
   "source": [
    "\n",
    "# Create DataLoaders\n",
    "batch_size = 32\n",
    "num_workers = 1  # number of subprocesses we keep it as one now \n",
    "train_loader = DataLoader(\n",
    "    train_dataset,\n",
    "    batch_size=batch_size,\n",
    "    shuffle=True,\n",
    "    num_workers=num_workers,\n",
    "    pin_memory=True,\n",
    ")\n",
    "val_loader = DataLoader(\n",
    "    val_dataset,\n",
    "    batch_size=batch_size,\n",
    "    shuffle=False,\n",
    "    num_workers=num_workers,\n",
    "    pin_memory=True\n",
    ")\n",
    "test_loader = DataLoader(\n",
    "    test_dataset,\n",
    "    batch_size=batch_size,\n",
    "    shuffle=False,\n",
    "    num_workers=num_workers,\n",
    "    pin_memory=True\n",
    ")\n",
    "\n",
    "\n"
   ]
  },
  {
   "cell_type": "markdown",
   "id": "22efc718-7961-44bc-886d-b0438224de58",
   "metadata": {},
   "source": [
    "## Configuring EfficientNet-B3 for Fine-Tuning  "
   ]
  },
  {
   "cell_type": "markdown",
   "id": "b90f7453-2e40-4118-8b88-2eef954404d2",
   "metadata": {},
   "source": [
    "#### Model Loading"
   ]
  },
  {
   "cell_type": "code",
   "execution_count": 6,
   "id": "d51569a8-7e46-4752-8e1f-e662177cab9b",
   "metadata": {
    "execution": {
     "iopub.execute_input": "2025-06-07T00:19:32.518015Z",
     "iopub.status.busy": "2025-06-07T00:19:32.517585Z",
     "iopub.status.idle": "2025-06-07T00:19:32.919987Z",
     "shell.execute_reply": "2025-06-07T00:19:32.919544Z",
     "shell.execute_reply.started": "2025-06-07T00:19:32.517991Z"
    }
   },
   "outputs": [
    {
     "data": {
      "text/plain": [
       "<All keys matched successfully>"
      ]
     },
     "execution_count": 6,
     "metadata": {},
     "output_type": "execute_result"
    }
   ],
   "source": [
    "model = models.efficientnet_b3(weights=None)\n",
    "# replace classifier\n",
    "model.classifier = nn.Sequential(\n",
    "    nn.Linear(1536, 256),\n",
    "    nn.BatchNorm1d(256),\n",
    "    nn.ReLU(),\n",
    "    nn.Dropout(0.2),\n",
    "    nn.Linear(256, 1)\n",
    ")\n",
    "# load frozen-head weights\n",
    "model.load_state_dict(torch.load(\"./model/frozen_model.pth\",weights_only=True))\n"
   ]
  },
  {
   "cell_type": "markdown",
   "id": "02cb8728-1e6a-43e8-8859-e8de07ed5dd7",
   "metadata": {},
   "source": [
    "#### As a first step the Dataloaders are already optimized enough"
   ]
  },
  {
   "cell_type": "code",
   "execution_count": 7,
   "id": "ebc18688-153b-4829-808b-a10a5c6bfc2c",
   "metadata": {
    "execution": {
     "iopub.execute_input": "2025-06-07T00:19:33.625341Z",
     "iopub.status.busy": "2025-06-07T00:19:33.625150Z",
     "iopub.status.idle": "2025-06-07T00:19:33.628082Z",
     "shell.execute_reply": "2025-06-07T00:19:33.627566Z",
     "shell.execute_reply.started": "2025-06-07T00:19:33.625328Z"
    }
   },
   "outputs": [],
   "source": [
    "#print(model.features)"
   ]
  },
  {
   "cell_type": "code",
   "execution_count": 8,
   "id": "82c57cc6-42bf-44ee-b2cc-f580b1b03dc6",
   "metadata": {
    "execution": {
     "iopub.execute_input": "2025-06-07T00:19:34.007952Z",
     "iopub.status.busy": "2025-06-07T00:19:34.007427Z",
     "iopub.status.idle": "2025-06-07T00:19:34.011582Z",
     "shell.execute_reply": "2025-06-07T00:19:34.011085Z",
     "shell.execute_reply.started": "2025-06-07T00:19:34.007925Z"
    }
   },
   "outputs": [],
   "source": [
    "for p in model.parameters():\n",
    "    p.requires_grad = True"
   ]
  },
  {
   "cell_type": "code",
   "execution_count": 9,
   "id": "96645b7a-b952-45b3-8f00-c6ba5cb88651",
   "metadata": {
    "execution": {
     "iopub.execute_input": "2025-06-07T00:19:34.269984Z",
     "iopub.status.busy": "2025-06-07T00:19:34.269565Z",
     "iopub.status.idle": "2025-06-07T00:19:34.272751Z",
     "shell.execute_reply": "2025-06-07T00:19:34.272381Z",
     "shell.execute_reply.started": "2025-06-07T00:19:34.269968Z"
    }
   },
   "outputs": [],
   "source": [
    "for param in model.features[:6].parameters():\n",
    "    param.requires_grad = False"
   ]
  },
  {
   "cell_type": "code",
   "execution_count": 10,
   "id": "8b1f6433-8825-44dc-9cc4-7c76ceabe41f",
   "metadata": {
    "execution": {
     "iopub.execute_input": "2025-06-07T00:19:34.562027Z",
     "iopub.status.busy": "2025-06-07T00:19:34.561849Z",
     "iopub.status.idle": "2025-06-07T00:19:34.568292Z",
     "shell.execute_reply": "2025-06-07T00:19:34.567801Z",
     "shell.execute_reply.started": "2025-06-07T00:19:34.562015Z"
    }
   },
   "outputs": [
    {
     "name": "stdout",
     "output_type": "stream",
     "text": [
      "(0, False) (1, False) (2, False) (3, False) (4, False) (5, False) (6, False) (7, False) (8, False) (9, False) (10, False) (11, False) (12, False) (13, False) (14, False) (15, False) (16, False) (17, False) (18, False) (19, False) (20, False) (21, False) (22, False) (23, False) (24, False) (25, False) (26, False) (27, False) (28, False) (29, False) (30, False) (31, False) (32, False) (33, False) (34, False) (35, False) (36, False) (37, False) (38, False) (39, False) (40, False) (41, False) (42, False) (43, False) (44, False) (45, False) (46, False) (47, False) (48, False) (49, False) (50, False) (51, False) (52, False) (53, False) (54, False) (55, False) (56, False) (57, False) (58, False) (59, False) (60, False) (61, False) (62, False) (63, False) (64, False) (65, False) (66, False) (67, False) (68, False) (69, False) (70, False) (71, False) (72, False) (73, False) (74, False) (75, False) (76, False) (77, False) (78, False) (79, False) (80, False) (81, False) (82, False) (83, False) (84, False) (85, False) (86, False) (87, False) (88, False) (89, False) (90, False) (91, False) (92, False) (93, False) (94, False) (95, False) (96, False) (97, False) (98, False) (99, False) (100, False) (101, False) (102, False) (103, False) (104, False) (105, False) (106, False) (107, False) (108, False) (109, False) (110, False) (111, False) (112, False) (113, False) (114, False) (115, False) (116, False) (117, False) (118, False) (119, False) (120, False) (121, False) (122, False) (123, False) (124, False) (125, False) (126, False) (127, False) (128, False) (129, False) (130, False) (131, False) (132, False) (133, False) (134, False) (135, False) (136, False) (137, False) (138, False) (139, False) (140, False) (141, False) (142, False) (143, False) (144, False) (145, False) (146, False) (147, False) (148, False) (149, False) (150, False) (151, False) (152, False) (153, False) (154, False) (155, False) (156, False) (157, False) (158, False) (159, False) (160, False) (161, False) (162, False) (163, False) (164, False) (165, False) (166, False) (167, False) (168, False) (169, False) (170, False) (171, False) (172, False) (173, False) (174, False) (175, False) (176, False) (177, False) (178, False) (179, False) (180, False) (181, False) (182, False) (183, False) (184, False) (185, False) (186, False) (187, False) (188, False) (189, False) (190, False) (191, False) (192, False) (193, False) (194, False) (195, False) (196, False) (197, False) (198, False) (199, False) (200, False) (201, False) (202, False) (203, False) (204, False) (205, False) (206, False) (207, False) (208, False) (209, False) (210, False) (211, False) (212, False) (213, False) (214, False) (215, False) (216, False) (217, False) (218, False) (219, False) (220, False) (221, False) (222, False) (223, False) (224, False) (225, False) (226, False) (227, False) (228, False) (229, False) (230, False) (231, True) (232, True) (233, True) (234, True) (235, True) (236, True) (237, True) (238, True) (239, True) (240, True) (241, True) (242, True) (243, True) (244, True) (245, True) (246, True) (247, True) (248, True) (249, True) (250, True) (251, True) (252, True) (253, True) (254, True) (255, True) (256, True) (257, True) (258, True) (259, True) (260, True) (261, True) (262, True) (263, True) (264, True) (265, True) (266, True) (267, True) (268, True) (269, True) (270, True) (271, True) (272, True) (273, True) (274, True) (275, True) (276, True) (277, True) (278, True) (279, True) (280, True) (281, True) (282, True) (283, True) (284, True) (285, True) (286, True) (287, True) (288, True) (289, True) (290, True) (291, True) (292, True) (293, True) (294, True) (295, True) (296, True) (297, True) (298, True) (299, True) (300, True) (301, True) (302, True) (303, True) (304, True) (305, True) (306, True) (307, True) (308, True) (309, True) (310, True) (311, True) (312, True) (313, True) (314, True) (315, True) (316, True) (317, True) (318, True) (319, True) (320, True) (321, True) (322, True) (323, True) (324, True) (325, True) (326, True) (327, True) (328, True) (329, True) (330, True) (331, True) (332, True) (333, True) (334, True) (335, True) (336, True) (337, True) (338, True) (339, True) (340, True) (341, True) (342, True) (343, True) "
     ]
    }
   ],
   "source": [
    "for idx, param in enumerate(model.parameters()):\n",
    "    print(f\"({idx}, {param.requires_grad})\", end=' ')"
   ]
  },
  {
   "cell_type": "code",
   "execution_count": 11,
   "id": "1317a336-e130-4874-ad10-68ffa780ea77",
   "metadata": {
    "execution": {
     "iopub.execute_input": "2025-06-07T00:19:34.981855Z",
     "iopub.status.busy": "2025-06-07T00:19:34.981440Z",
     "iopub.status.idle": "2025-06-07T00:19:35.009697Z",
     "shell.execute_reply": "2025-06-07T00:19:35.009317Z",
     "shell.execute_reply.started": "2025-06-07T00:19:34.981836Z"
    }
   },
   "outputs": [
    {
     "name": "stdout",
     "output_type": "stream",
     "text": [
      "Trainable params: 8900319\n"
     ]
    }
   ],
   "source": [
    "# Send to Gpu\n",
    "model = model.to(device)\n",
    "trainable = sum(p.numel() for p in model.parameters() if p.requires_grad)\n",
    "print(f\"Trainable params: {trainable}\")"
   ]
  },
  {
   "cell_type": "code",
   "execution_count": 12,
   "id": "267c25a7-3bb5-49ef-aea1-049d795be8d5",
   "metadata": {
    "execution": {
     "iopub.execute_input": "2025-06-07T00:19:35.376131Z",
     "iopub.status.busy": "2025-06-07T00:19:35.375547Z",
     "iopub.status.idle": "2025-06-07T00:19:35.581485Z",
     "shell.execute_reply": "2025-06-07T00:19:35.580970Z",
     "shell.execute_reply.started": "2025-06-07T00:19:35.376106Z"
    }
   },
   "outputs": [
    {
     "name": "stdout",
     "output_type": "stream",
     "text": [
      "Sat Jun  7 01:19:35 2025       \n",
      "+-----------------------------------------------------------------------------------------+\n",
      "| NVIDIA-SMI 570.124.06             Driver Version: 570.124.06     CUDA Version: 12.8     |\n",
      "|-----------------------------------------+------------------------+----------------------+\n",
      "| GPU  Name                 Persistence-M | Bus-Id          Disp.A | Volatile Uncorr. ECC |\n",
      "| Fan  Temp   Perf          Pwr:Usage/Cap |           Memory-Usage | GPU-Util  Compute M. |\n",
      "|                                         |                        |               MIG M. |\n",
      "|=========================================+========================+======================|\n",
      "|   0  NVIDIA GeForce RTX 3050 ...    On  |   00000000:01:00.0 Off |                  N/A |\n",
      "| N/A   47C    P0             11W /   65W |     157MiB /   4096MiB |      0%      Default |\n",
      "|                                         |                        |                  N/A |\n",
      "+-----------------------------------------+------------------------+----------------------+\n",
      "                                                                                         \n",
      "+-----------------------------------------------------------------------------------------+\n",
      "| Processes:                                                                              |\n",
      "|  GPU   GI   CI              PID   Type   Process name                        GPU Memory |\n",
      "|        ID   ID                                                               Usage      |\n",
      "|=========================================================================================|\n",
      "|    0   N/A  N/A            2460      G   /usr/bin/gnome-shell                      1MiB |\n",
      "|    0   N/A  N/A           31268      C   ...ptimizedfinetuning/bin/python        138MiB |\n",
      "+-----------------------------------------------------------------------------------------+\n"
     ]
    }
   ],
   "source": [
    "!nvidia-smi"
   ]
  },
  {
   "cell_type": "markdown",
   "id": "061cc3ad-0ac9-4fd0-a739-5aba83c95860",
   "metadata": {},
   "source": [
    "## Set up optimizers and criterion "
   ]
  },
  {
   "cell_type": "code",
   "execution_count": 13,
   "id": "b3778f7d-9411-4ae4-97fd-89b8d3589e96",
   "metadata": {
    "execution": {
     "iopub.execute_input": "2025-06-07T00:19:36.418140Z",
     "iopub.status.busy": "2025-06-07T00:19:36.417572Z",
     "iopub.status.idle": "2025-06-07T00:19:36.422013Z",
     "shell.execute_reply": "2025-06-07T00:19:36.421635Z",
     "shell.execute_reply.started": "2025-06-07T00:19:36.418112Z"
    }
   },
   "outputs": [],
   "source": [
    "# Loss and optimizer\n",
    "criterion = nn.BCEWithLogitsLoss()\n",
    "optimizer = optim.Adam(model.parameters(), lr=0.0001)"
   ]
  },
  {
   "cell_type": "markdown",
   "id": "dbeb42c3-2b9f-4650-8ca1-d92cebff901d",
   "metadata": {},
   "source": [
    "### set up accumulation steps \n",
    "variable is to set up accumulation "
   ]
  },
  {
   "cell_type": "code",
   "execution_count": 14,
   "id": "54ad767b-6578-43db-bd29-9e5882dd30c9",
   "metadata": {
    "execution": {
     "iopub.execute_input": "2025-06-07T00:19:37.165840Z",
     "iopub.status.busy": "2025-06-07T00:19:37.165416Z",
     "iopub.status.idle": "2025-06-07T00:19:37.168086Z",
     "shell.execute_reply": "2025-06-07T00:19:37.167539Z",
     "shell.execute_reply.started": "2025-06-07T00:19:37.165822Z"
    }
   },
   "outputs": [],
   "source": [
    "accumulation_steps = 2  "
   ]
  },
  {
   "cell_type": "markdown",
   "id": "53353640-ea5b-411c-aaf6-6ff4fb5a9ef5",
   "metadata": {},
   "source": [
    "now the logic goes like this \n",
    "$$ \n",
    "hypothetical\\ batch\\ size = batch\\ size\\ *\\ accumulation\\ steps \n",
    "$$"
   ]
  },
  {
   "cell_type": "markdown",
   "id": "78bba373-8382-4fcf-839f-81454b71d6ba",
   "metadata": {},
   "source": [
    "# The Training Loop \n",
    "here we set the learning late low so can it'll adjust to the data without drastically changing weights"
   ]
  },
  {
   "cell_type": "code",
   "execution_count": 15,
   "id": "f2eb021e-31cb-4dfd-b032-8e20cdbe6a58",
   "metadata": {
    "execution": {
     "iopub.execute_input": "2025-06-07T00:19:39.121170Z",
     "iopub.status.busy": "2025-06-07T00:19:39.120573Z",
     "iopub.status.idle": "2025-06-07T00:19:39.131120Z",
     "shell.execute_reply": "2025-06-07T00:19:39.130551Z",
     "shell.execute_reply.started": "2025-06-07T00:19:39.121149Z"
    }
   },
   "outputs": [],
   "source": [
    "# Training function\n",
    "def train_model(model, train_loader, val_loader, criterion, optimizer, num_epochs=5):\n",
    "    history = {\"train_loss\": [], \"train_acc\": [], \"val_loss\": [], \"val_acc\": []}\n",
    "    \n",
    "    for epoch in range(num_epochs):\n",
    "        model.train()\n",
    "        train_loss = 0.0\n",
    "        train_preds, train_targets = [], []\n",
    "        \n",
    "        optimizer.zero_grad() \n",
    "        \n",
    "        for step, (data, target) in enumerate(train_loader):\n",
    "            data, target = data.to(device), target.float().to(device).view(-1, 1)  # Float targets, shape (batch_size, 1)\n",
    "            optimizer.zero_grad()\n",
    "            output = model(data)  # Output: (batch_size, 1) logits\n",
    "            loss = criterion(output, target)  # BCEWithLogitsLoss\n",
    "\n",
    "            #normalise loss as it is accumulated \n",
    "            scaled_loss = loss / accumulation_steps\n",
    "            scaled_loss.backward()\n",
    "             \n",
    "            # Step optimizer every `accumulation_steps` batches\n",
    "            if (step + 1) % accumulation_steps == 0:\n",
    "                optimizer.step()\n",
    "                optimizer.zero_grad()\n",
    "\n",
    "            \n",
    "            train_loss += loss.item() * data.size(0)  # Use unscaled loss for metrics\n",
    "\n",
    "            # Apply sigmoid for predictions\n",
    "            probs = torch.sigmoid(output)\n",
    "            preds = (probs > 0.5).float()  # Threshold at 0.5\n",
    "            train_preds.extend(preds.cpu().numpy().flatten())\n",
    "            train_targets.extend(target.cpu().numpy().flatten())\n",
    "\n",
    "        # Final step if total steps not divisible by accumulation_steps\n",
    "        if (step + 1) % accumulation_steps != 0:\n",
    "            optimizer.step()\n",
    "            optimizer.zero_grad()\n",
    "\n",
    "        # Validation\n",
    "        model.eval()\n",
    "        val_loss = 0.0\n",
    "        val_preds, val_targets = [], []\n",
    "        with torch.no_grad():\n",
    "            for data, target in val_loader:\n",
    "                data, target = data.to(device), target.float().to(device).view(-1, 1)\n",
    "                output = model(data)  # (batch_size, 1) logits\n",
    "                loss = criterion(output, target)\n",
    "                val_loss += loss.item() * data.size(0)\n",
    "\n",
    "                probs = torch.sigmoid(output)\n",
    "                preds = (probs > 0.5).float()\n",
    "                val_preds.extend(preds.cpu().numpy().flatten())\n",
    "                val_targets.extend(target.cpu().numpy().flatten())\n",
    "\n",
    "        # Metrics\n",
    "        train_loss /= len(train_loader.dataset)\n",
    "        val_loss /= len(val_loader.dataset)\n",
    "        train_acc = accuracy_score(train_targets, train_preds)\n",
    "        val_acc = accuracy_score(val_targets, val_preds)\n",
    "\n",
    "        history[\"train_loss\"].append(train_loss)\n",
    "        history[\"val_loss\"].append(val_loss)\n",
    "        history[\"train_acc\"].append(train_acc)\n",
    "        history[\"val_acc\"].append(val_acc)\n",
    "\n",
    "        torch.cuda.empty_cache()\n",
    "\n",
    "        print(f\"Epoch {epoch+1}/{num_epochs}: Train Loss: {train_loss:.4f}, Train Acc: {train_acc:.4f}, Val Loss: {val_loss:.4f}, Val Acc: {val_acc:.4f}\")\n",
    "        memorytracking()\n",
    "    \n",
    "    return history"
   ]
  },
  {
   "cell_type": "code",
   "execution_count": 16,
   "id": "1ac8461f-446c-41df-8963-62c77c4b3048",
   "metadata": {
    "execution": {
     "iopub.execute_input": "2025-06-07T00:19:40.214782Z",
     "iopub.status.busy": "2025-06-07T00:19:40.214561Z",
     "iopub.status.idle": "2025-06-07T00:20:41.825147Z",
     "shell.execute_reply": "2025-06-07T00:20:41.824550Z",
     "shell.execute_reply.started": "2025-06-07T00:19:40.214765Z"
    }
   },
   "outputs": [
    {
     "name": "stdout",
     "output_type": "stream",
     "text": [
      "Epoch 1/3: Train Loss: 0.2347, Train Acc: 0.9038, Val Loss: 0.3363, Val Acc: 0.8705\n",
      "  Allocated Memory    : 162.22 MB   Reserved Memory      : 544.00 MB   Peak Allocated Memory: 1361.21 MB\n",
      "Epoch 2/3: Train Loss: 0.1972, Train Acc: 0.9206, Val Loss: 0.3165, Val Acc: 0.8884\n",
      "  Allocated Memory    : 162.22 MB   Reserved Memory      : 544.00 MB   Peak Allocated Memory: 1361.21 MB\n",
      "Epoch 3/3: Train Loss: 0.1868, Train Acc: 0.9266, Val Loss: 0.3195, Val Acc: 0.8973\n",
      "  Allocated Memory    : 162.22 MB   Reserved Memory      : 544.00 MB   Peak Allocated Memory: 1361.21 MB\n"
     ]
    }
   ],
   "source": [
    "# Attempt to train\n",
    "history = train_model(model, train_loader, val_loader, criterion, optimizer, num_epochs=3)"
   ]
  },
  {
   "cell_type": "markdown",
   "id": "77a7da3d-c3c7-4641-83fb-ad5c299e5ad5",
   "metadata": {},
   "source": [
    "## Memory Profiling with NVIDIA-SMI\n",
    "\n",
    "We use NVIDIA-SMI to check VRAM usage during fine-tuning. Unfreezing the last convolutional block and using a batch size of 32 likely pushed usage to ~7GB, exceeding our 4GB RTX 3050 Ti’s limit, causing the OOM error.\n",
    "\n",
    "Run `nvidia-smi` to inspect GPU memory."
   ]
  },
  {
   "cell_type": "code",
   "execution_count": 17,
   "id": "797ec307-9de5-439f-9b2f-14e5f8263107",
   "metadata": {
    "execution": {
     "iopub.execute_input": "2025-06-07T00:20:46.813820Z",
     "iopub.status.busy": "2025-06-07T00:20:46.813362Z",
     "iopub.status.idle": "2025-06-07T00:20:47.027698Z",
     "shell.execute_reply": "2025-06-07T00:20:47.026923Z",
     "shell.execute_reply.started": "2025-06-07T00:20:46.813797Z"
    }
   },
   "outputs": [
    {
     "name": "stdout",
     "output_type": "stream",
     "text": [
      "Sat Jun  7 01:20:46 2025       \n",
      "+-----------------------------------------------------------------------------------------+\n",
      "| NVIDIA-SMI 570.124.06             Driver Version: 570.124.06     CUDA Version: 12.8     |\n",
      "|-----------------------------------------+------------------------+----------------------+\n",
      "| GPU  Name                 Persistence-M | Bus-Id          Disp.A | Volatile Uncorr. ECC |\n",
      "| Fan  Temp   Perf          Pwr:Usage/Cap |           Memory-Usage | GPU-Util  Compute M. |\n",
      "|                                         |                        |               MIG M. |\n",
      "|=========================================+========================+======================|\n",
      "|   0  NVIDIA GeForce RTX 3050 ...    On  |   00000000:01:00.0 Off |                  N/A |\n",
      "| N/A   57C    P0             12W /   65W |     681MiB /   4096MiB |      0%      Default |\n",
      "|                                         |                        |                  N/A |\n",
      "+-----------------------------------------+------------------------+----------------------+\n",
      "                                                                                         \n",
      "+-----------------------------------------------------------------------------------------+\n",
      "| Processes:                                                                              |\n",
      "|  GPU   GI   CI              PID   Type   Process name                        GPU Memory |\n",
      "|        ID   ID                                                               Usage      |\n",
      "|=========================================================================================|\n",
      "|    0   N/A  N/A            2460      G   /usr/bin/gnome-shell                      1MiB |\n",
      "|    0   N/A  N/A           31268      C   ...ptimizedfinetuning/bin/python        662MiB |\n",
      "+-----------------------------------------------------------------------------------------+\n"
     ]
    }
   ],
   "source": [
    "torch.cuda.empty_cache()\n",
    "!nvidia-smi"
   ]
  },
  {
   "cell_type": "markdown",
   "id": "65faf768-9163-44a7-93ba-d4d3013bb39a",
   "metadata": {},
   "source": [
    "## Successful Run on a Powerful GPU\n",
    "\n",
    "On a more powerful GPU (e.g., 8GB RTX 3080 or cloud instance like AWS V100), fine-tuning with unfrozen layers and batch size 32 typically succeeds without OOM errors. <br>\n",
    "Since our 4GB GPU hit OOM, we’ll address this in Notebook 4 with optimization techniques."
   ]
  },
  {
   "cell_type": "markdown",
   "id": "86eb50ff-e4a0-41a5-a94e-243daef8e195",
   "metadata": {
    "execution": {
     "iopub.execute_input": "2025-05-11T23:37:53.932584Z",
     "iopub.status.busy": "2025-05-11T23:37:53.932314Z",
     "iopub.status.idle": "2025-05-11T23:37:53.936526Z",
     "shell.execute_reply": "2025-05-11T23:37:53.935919Z",
     "shell.execute_reply.started": "2025-05-11T23:37:53.932557Z"
    }
   },
   "source": [
    "## Evaluation\n",
    "\n",
    "If fine-tuning completed any epochs before OOM, we evaluate the model on the test set (560 images). If OOM occurred early, evaluation will be deferred to Notebook 4 after optimization.\n",
    "\n",
    "Metrics:\n",
    "- Accuracy\n",
    "- Precision, Recall, F1-score\n",
    "- Confusion Matrix"
   ]
  },
  {
   "cell_type": "code",
   "execution_count": 18,
   "id": "c0d4d382-f684-4e97-ba00-ed864b270df0",
   "metadata": {
    "execution": {
     "iopub.execute_input": "2025-06-07T00:20:48.424042Z",
     "iopub.status.busy": "2025-06-07T00:20:48.423780Z",
     "iopub.status.idle": "2025-06-07T00:20:52.482455Z",
     "shell.execute_reply": "2025-06-07T00:20:52.481903Z",
     "shell.execute_reply.started": "2025-06-07T00:20:48.424022Z"
    }
   },
   "outputs": [
    {
     "name": "stdout",
     "output_type": "stream",
     "text": [
      "Test Accuracy: 0.8951\n",
      "Test Precision: 0.9065\n",
      "Test Recall: 0.8811\n",
      "Test F1-Score: 0.8936\n"
     ]
    }
   ],
   "source": [
    "import matplotlib.pyplot as plt\n",
    "# Evaluation function\n",
    "def evaluate_model(model, loader):\n",
    "    model.eval()\n",
    "    preds, targets = [], []\n",
    "    with torch.no_grad():\n",
    "        for data, target in loader:\n",
    "            data, target = data.to(device), target.float().to(device).view(-1, 1)\n",
    "            output = model(data)\n",
    "            preds.extend((output > 0.5).float().cpu().numpy().flatten())\n",
    "            targets.extend(target.cpu().numpy().flatten())\n",
    "    \n",
    "    acc = accuracy_score(targets, preds)\n",
    "    precision, recall, f1, _ = precision_recall_fscore_support(targets, preds, average=\"binary\")\n",
    "    return acc, precision, recall, f1, preds, targets\n",
    "\n",
    "# Evaluate\n",
    "test_acc, test_precision, test_recall, test_f1, test_preds, test_targets = evaluate_model(model, test_loader)\n",
    "print(f\"Test Accuracy: {test_acc:.4f}\")\n",
    "print(f\"Test Precision: {test_precision:.4f}\")\n",
    "print(f\"Test Recall: {test_recall:.4f}\")\n",
    "print(f\"Test F1-Score: {test_f1:.4f}\")"
   ]
  },
  {
   "cell_type": "markdown",
   "id": "f7f61714-51eb-403b-b831-da9e10a4b2dc",
   "metadata": {},
   "source": [
    "## Training Curves\n",
    "\n",
    "If fine-tuning ran for any epochs, we plot training and validation loss/accuracy to assess progress. If OOM stopped training early, this will be addressed in Notebook 4.\n"
   ]
  },
  {
   "cell_type": "code",
   "execution_count": 19,
   "id": "a79178db-04c9-4e9b-a438-8e9f97dd5beb",
   "metadata": {
    "execution": {
     "iopub.execute_input": "2025-06-07T00:20:52.483604Z",
     "iopub.status.busy": "2025-06-07T00:20:52.483442Z",
     "iopub.status.idle": "2025-06-07T00:20:52.711237Z",
     "shell.execute_reply": "2025-06-07T00:20:52.710834Z",
     "shell.execute_reply.started": "2025-06-07T00:20:52.483588Z"
    }
   },
   "outputs": [
    {
     "data": {
      "image/png": "[encoded data removed]",
      "text/plain": [
       "<Figure size 1200x400 with 2 Axes>"
      ]
     },
     "metadata": {},
     "output_type": "display_data"
    }
   ],
   "source": [
    "# Plot loss and accuracy\n",
    "plt.figure(figsize=(12, 4))\n",
    "\n",
    "plt.subplot(1, 2, 1)\n",
    "plt.plot(history[\"train_loss\"], label=\"Train Loss\")\n",
    "plt.plot(history[\"val_loss\"], label=\"Validation Loss\")\n",
    "plt.title(\"Training and Validation Loss\")\n",
    "plt.xlabel(\"Epoch\")\n",
    "plt.ylabel(\"Loss\")\n",
    "plt.legend()\n",
    "\n",
    "plt.subplot(1, 2, 2)\n",
    "plt.plot(history[\"train_acc\"], label=\"Training Accuracy\")\n",
    "plt.plot(history[\"val_acc\"], label=\"Validation Accuracy\")\n",
    "plt.title(\"Training and Validation Accuracy\")\n",
    "plt.xlabel(\"Epoch\")\n",
    "plt.ylabel(\"Accuracy\")\n",
    "plt.legend()\n",
    "\n",
    "plt.tight_layout()\n",
    "plt.show()"
   ]
  },
  {
   "cell_type": "code",
   "execution_count": 20,
   "id": "8d3289ef-8494-451f-9483-94038db6cce3",
   "metadata": {
    "execution": {
     "iopub.execute_input": "2025-06-07T00:26:40.811993Z",
     "iopub.status.busy": "2025-06-07T00:26:40.811721Z",
     "iopub.status.idle": "2025-06-07T00:26:40.930385Z",
     "shell.execute_reply": "2025-06-07T00:26:40.929855Z",
     "shell.execute_reply.started": "2025-06-07T00:26:40.811971Z"
    }
   },
   "outputs": [
    {
     "data": {
      "image/png": "[encoded data removed]",
      "text/plain": [
       "<Figure size 600x500 with 2 Axes>"
      ]
     },
     "metadata": {},
     "output_type": "display_data"
    }
   ],
   "source": [
    "# Confusion matrix\n",
    "cm = confusion_matrix(test_targets, test_preds)\n",
    "plt.figure(figsize=(6, 5))\n",
    "sns.heatmap(cm, annot=True, fmt=\"d\", cmap=\"Blues\", xticklabels=[\"Non-Guide\", \"Guide\"], yticklabels=[\"Non-Guide\", \"Guide\"])\n",
    "plt.title(\"Confusion Matrix (Test Set)\")\n",
    "plt.xlabel(\"Predicted\")\n",
    "plt.ylabel(\"True\")\n",
    "plt.show()"
   ]
  },
  {
   "cell_type": "markdown",
   "id": "716b797c-1443-4037-b367-688bc1133f51",
   "metadata": {},
   "source": [
    "## Reset Cache and Shut Down Kernel\n",
    "\n",
    "To ensure a clean state, we clear GPU memory and shut down the kernel. After running the cell below, the kernel will stop. Open `3_Fine_Tuning_Memory_Optimization.ipynb` in a new Jupyter session to apply memory optimization.\n",
    "\n",
    "**Note**: Restart Jupyter or open the next notebook manually after shutdown."
   ]
  },
  {
   "cell_type": "code",
   "execution_count": null,
   "id": "fbb55156-4628-4d3d-a1cc-ee5f231cd27c",
   "metadata": {},
   "outputs": [],
   "source": [
    "from IPython import get_ipython\n",
    "import torch\n",
    "\n",
    "# Clear GPU memory\n",
    "if torch.cuda.is_available():\n",
    "    torch.cuda.empty_cache()\n",
    "print(\"GPU memory cleared.\")\n",
    "\n",
    "# Shut down the kernel\n",
    "get_ipython().kernel.do_shutdown(restart=True)"
   ]
  },
  {
   "cell_type": "code",
   "execution_count": null,
   "id": "9000e569-8b3d-46b1-90eb-aa1e21e48d88",
   "metadata": {},
   "outputs": [],
   "source": []
  }
 ],
 "metadata": {
  "kernelspec": {
   "display_name": "optimized fine tuning",
   "language": "python",
   "name": "optimizedfinetuning"
  },
  "language_info": {
   "codemirror_mode": {
    "name": "ipython",
    "version": 3
   },
   "file_extension": ".py",
   "mimetype": "text/x-python",
   "name": "python",
   "nbconvert_exporter": "python",
   "pygments_lexer": "ipython3",
   "version": "3.11.12"
  }
 },
 "nbformat": 4,
 "nbformat_minor": 5
}
